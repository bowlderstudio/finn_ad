{
 "cells": [
  {
   "cell_type": "code",
   "execution_count": null,
   "id": "3a75acfe",
   "metadata": {},
   "outputs": [],
   "source": [
    "import pandas as pd\n",
    "import os\n",
    "import matplotlib.pyplot as plt"
   ]
  },
  {
   "cell_type": "code",
   "execution_count": null,
   "id": "8ef9c11f",
   "metadata": {},
   "outputs": [],
   "source": [
    "pd.set_option('display.max_colwidth', None)"
   ]
  },
  {
   "cell_type": "markdown",
   "id": "da7fb6e7",
   "metadata": {},
   "source": [
    "# Load hybel data"
   ]
  },
  {
   "cell_type": "code",
   "execution_count": null,
   "id": "b4f5a6b8",
   "metadata": {},
   "outputs": [],
   "source": [
    "path=\"../data\"\n",
    "hybel_df = pd.read_csv(os.path.join(path,\"hybel.csv\"))\n",
    "hybel_df[\"area_range\"]=round(hybel_df[\"area\"],-1)\n",
    "hybel_df.sort_values('date')"
   ]
  },
  {
   "cell_type": "code",
   "execution_count": null,
   "id": "836c6cbe",
   "metadata": {},
   "outputs": [],
   "source": [
    "rentout_hybel=hybel_df[(hybel_df[\"rent_out\"]==True) & (hybel_df[\"date\"]>='11-01-2022')]\n",
    "rentout_hybel.sort_values('rent_date')"
   ]
  },
  {
   "cell_type": "markdown",
   "id": "5e972a18",
   "metadata": {},
   "source": [
    "# Average rent out days"
   ]
  },
  {
   "cell_type": "code",
   "execution_count": null,
   "id": "3e3ceebd",
   "metadata": {},
   "outputs": [],
   "source": [
    "from datetime import datetime\n",
    "\n",
    "def str_to_datetime(date_str):\n",
    "    return datetime.strptime(date_str, '%d-%m-%Y')\n",
    "\n",
    "def delta_days(date1, date2):\n",
    "    date1 = str_to_datetime(date1)\n",
    "    date2 = str_to_datetime(date2)\n",
    "    delta = date2 - date1\n",
    "    return delta.days\n",
    "\n",
    "delta_days('12-01-2022', '17-01-2022')"
   ]
  },
  {
   "cell_type": "code",
   "execution_count": null,
   "id": "31bef936",
   "metadata": {},
   "outputs": [],
   "source": [
    "rentout_days=rentout_hybel.apply(lambda x: delta_days(x.date, x.rent_date), axis=1)\n",
    "rentout_days.mean()"
   ]
  },
  {
   "cell_type": "code",
   "execution_count": null,
   "id": "f6528f84",
   "metadata": {},
   "outputs": [],
   "source": [
    "#rentout_hybel['rentout_days']=rentout_hybel.apply(lambda x: delta_days(x.date, x.rent_date), axis=1)\n",
    "rentout_hybel['rentout_days']=rentout_hybel.apply(lambda x: delta_days(x.date, x.rent_date), axis=1)\n",
    "rentout_hybel"
   ]
  },
  {
   "cell_type": "code",
   "execution_count": null,
   "id": "550d138b",
   "metadata": {},
   "outputs": [],
   "source": [
    "rentout_hybel['rentout_days'].describe()"
   ]
  },
  {
   "cell_type": "code",
   "execution_count": null,
   "id": "6a8f2748",
   "metadata": {},
   "outputs": [],
   "source": [
    "#fig = plt.figure(figsize =(10, 7))\n",
    "plt.boxplot(rentout_hybel['rentout_days'], labels=['Rent out days'])"
   ]
  },
  {
   "cell_type": "code",
   "execution_count": null,
   "id": "506b01ad",
   "metadata": {},
   "outputs": [],
   "source": [
    "plt.boxplot(rentout_hybel['price'], labels=['Rent'])"
   ]
  },
  {
   "cell_type": "code",
   "execution_count": null,
   "id": "8e5d8cb6",
   "metadata": {},
   "outputs": [],
   "source": [
    "rentout_hybel['price'].describe()"
   ]
  },
  {
   "cell_type": "code",
   "execution_count": null,
   "id": "35e97d20",
   "metadata": {},
   "outputs": [],
   "source": [
    "#Average rent group by area\n",
    "df_price_groupby=rentout_hybel.groupby(['area_range'])['price'].mean()\n",
    "\n",
    "ax = df_price_groupby.plot(kind='bar');\n",
    "ax.set_alpha(0.8)\n",
    "ax.set_title(\"Average rent group by area\")\n",
    "ax.set_ylabel(\"Rent\");\n",
    "ax.set_xlabel(\"Area\");\n",
    "plt.show()"
   ]
  },
  {
   "cell_type": "code",
   "execution_count": null,
   "id": "a16df40c",
   "metadata": {},
   "outputs": [],
   "source": [
    "#Average rent group by area\n",
    "df_price_groupby=rentout_hybel.groupby(['area_range'])['rentout_days'].mean()\n",
    "\n",
    "ax = df_price_groupby.plot(kind='bar');\n",
    "ax.set_alpha(0.8)\n",
    "ax.set_title(\"Average rent out days group by area\")\n",
    "ax.set_ylabel(\"Rent out days\");\n",
    "ax.set_xlabel(\"Area\");\n",
    "plt.show()"
   ]
  },
  {
   "cell_type": "code",
   "execution_count": null,
   "id": "47041169",
   "metadata": {},
   "outputs": [],
   "source": [
    "rentout_hybel.groupby(['area_range']).size().plot(kind = \"bar\", xlabel=\"Area\", ylabel=\"Number\", title=\"Number of hybel group by area\")"
   ]
  },
  {
   "cell_type": "markdown",
   "id": "a1b6aaeb",
   "metadata": {},
   "source": [
    "# Load house data"
   ]
  },
  {
   "cell_type": "code",
   "execution_count": null,
   "id": "d0913d3e",
   "metadata": {},
   "outputs": [],
   "source": [
    "path=\"../data\"\n",
    "house_df = pd.read_csv(os.path.join(path,\"house.csv\"))\n",
    "house_df"
   ]
  },
  {
   "cell_type": "code",
   "execution_count": null,
   "id": "490dc54f",
   "metadata": {},
   "outputs": [],
   "source": [
    "rentout_house=house_df[(house_df[\"rent_out\"]==True) & (house_df[\"date\"]>'11-01-2022')]\n",
    "rentout_house=house_df[(house_df[\"rent_out\"]==True)]\n",
    "rentout_house"
   ]
  },
  {
   "cell_type": "code",
   "execution_count": null,
   "id": "380ed292",
   "metadata": {},
   "outputs": [],
   "source": [
    "rentout_days=rentout_house.apply(lambda x: delta_days(x.date, x.rent_date), axis=1)\n",
    "rentout_days.mean()"
   ]
  },
  {
   "cell_type": "code",
   "execution_count": null,
   "id": "eacaba0d",
   "metadata": {},
   "outputs": [],
   "source": []
  }
 ],
 "metadata": {
  "kernelspec": {
   "display_name": "Python 3 (ipykernel)",
   "language": "python",
   "name": "python3"
  },
  "language_info": {
   "codemirror_mode": {
    "name": "ipython",
    "version": 3
   },
   "file_extension": ".py",
   "mimetype": "text/x-python",
   "name": "python",
   "nbconvert_exporter": "python",
   "pygments_lexer": "ipython3",
   "version": "3.8.6"
  }
 },
 "nbformat": 4,
 "nbformat_minor": 5
}
